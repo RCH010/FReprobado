{
  "nbformat": 4,
  "nbformat_minor": 0,
  "metadata": {
    "colab": {
      "name": "APIS.ipynb",
      "provenance": [],
      "collapsed_sections": []
    },
    "kernelspec": {
      "name": "python3",
      "display_name": "Python 3"
    },
    "language_info": {
      "name": "python"
    },
    "accelerator": "GPU"
  },
  "cells": [
    {
      "cell_type": "markdown",
      "metadata": {
        "id": "TUxibuenYddy"
      },
      "source": [
        ""
      ]
    },
    {
      "cell_type": "code",
      "metadata": {
        "id": "N10BXTVyJu7s"
      },
      "source": [
        "import pandas as pd\n",
        "import numpy as np\n",
        "import matplotlib.pyplot as plt\n",
        "import sys\n",
        "import math"
      ],
      "execution_count": null,
      "outputs": []
    },
    {
      "cell_type": "code",
      "metadata": {
        "colab": {
          "base_uri": "https://localhost:8080/"
        },
        "id": "xCFLn02W8Wdj",
        "outputId": "6fb90217-8365-4ddd-f673-3dc34857ecdf"
      },
      "source": [
        "from google.colab import drive\n",
        "drive.mount('/content/drive', force_remount=True)"
      ],
      "execution_count": null,
      "outputs": [
        {
          "output_type": "stream",
          "name": "stdout",
          "text": [
            "Mounted at /content/drive\n"
          ]
        }
      ]
    },
    {
      "cell_type": "markdown",
      "metadata": {
        "id": "6LrbDliT_AvM"
      },
      "source": [
        "\n",
        "LIMPIA DE DATOS DESDE 0\n",
        "---\n",
        "\n"
      ]
    },
    {
      "cell_type": "code",
      "metadata": {
        "colab": {
          "base_uri": "https://localhost:8080/"
        },
        "id": "Jo7iSOIkKSuV",
        "outputId": "834d4c45-f9f3-4ce3-bd4b-2365741bbbb7"
      },
      "source": [
        "alumnos = pd.read_csv('/content/drive/MyDrive/Trash/R210930_JP.csv')"
      ],
      "execution_count": null,
      "outputs": [
        {
          "output_type": "stream",
          "name": "stderr",
          "text": [
            "/usr/local/lib/python3.7/dist-packages/IPython/core/interactiveshell.py:2718: DtypeWarning: Columns (22) have mixed types.Specify dtype option on import or set low_memory=False.\n",
            "  interactivity=interactivity, compiler=compiler, result=result)\n"
          ]
        }
      ]
    },
    {
      "cell_type": "code",
      "metadata": {
        "colab": {
          "base_uri": "https://localhost:8080/"
        },
        "id": "cMOarpJDQo_2",
        "outputId": "03ed6db0-9e12-4cb9-ccf9-9b671f18cfd5"
      },
      "source": [
        "alumnos[alumnos['Nombre Departamento Materia'] == 'Prog mejoramiento acad de alum']['Nombre Materia Largo']\n",
        "\n",
        "alumnos.columns"
      ],
      "execution_count": null,
      "outputs": [
        {
          "output_type": "execute_result",
          "data": {
            "text/plain": [
              "Index(['Clave\\nEjercicio Académico', 'Nombre Campus', 'Desc Nivel Acad Alumno',\n",
              "       'Clave Major Pgma Acad', 'Ind Plan Tec21', 'Clave Programa Académico',\n",
              "       'Desc Programa Académico', 'v_Siglas Escuela por Major', 'Matrícula',\n",
              "       'Nombres', 'Apellido Paterno', 'Apellido Materno', 'Género',\n",
              "       'Fecha de nacimiento', 'Nacionalidad', 'Puntaje PAA',\n",
              "       'Nombre preparatoria', 'Promedio preparatoria',\n",
              "       'Desc Periodo Academico', 'Clave Ejer Admision Alumno',\n",
              "       'Promedio del ejercicio anterior', 'Promedio acumulado', 'Semestre',\n",
              "       'v_Clasificación ingreso alumno', 'Unidades Inscritas Ejer',\n",
              "       'Auditoria Grado del Programa Alumno.Total Uni Acred Plan',\n",
              "       'Clave Estatus Inscripcion', 'Clave Materia', 'Nombre Materia Largo',\n",
              "       'Numero Grupo', 'Periodo', 'v_Tipo de materia (UF)',\n",
              "       'Ind Materia Tec21', 'Ind Materia Life', 'Clave Departamento Materia',\n",
              "       'Nombre Departamento Materia', 'Horas Clase', 'Horas Laboratorio',\n",
              "       'Unidades', 'Créditos', 'Crn', 'Periodo.1', 'Clave Estatus Insc Grupo',\n",
              "       'Desc Estatus Insc Grupo', 'Calificacion Final (Lista)',\n",
              "       'Valor Calif Final', 'Calificacion Final Real (HA)',\n",
              "       'Valor Calif Final Real', 'v_Tuvo cambio de calificación?',\n",
              "       'Clave Beca', 'Desc Beca', 'Clave Plan Beca', 'Desc Plan Beca'],\n",
              "      dtype='object')"
            ]
          },
          "metadata": {},
          "execution_count": 5
        }
      ]
    },
    {
      "cell_type": "code",
      "metadata": {
        "id": "RjlTpezqLNmA",
        "colab": {
          "base_uri": "https://localhost:8080/"
        },
        "outputId": "8d94abbc-9b37-4edb-ed3a-eb1db5b5d50b"
      },
      "source": [
        "columnas_no_deseadas = [\n",
        "  'Nombre Campus',\n",
        "  'Desc Nivel Acad Alumno',\n",
        "  'Ind Plan Tec21',\n",
        "  'Desc Programa Académico',\n",
        "  'Matrícula',\n",
        "  'Nombres',\n",
        "  'Apellido Paterno',\n",
        "  'Apellido Materno',\n",
        "  'Género',\n",
        "  'Fecha de nacimiento',\n",
        "  'Nacionalidad',\n",
        "  'Nombre preparatoria',\n",
        "  'Promedio preparatoria',\n",
        "  'Clave Ejer Admision Alumno',\n",
        "  'Auditoria Grado del Programa Alumno.Total Uni Acred Plan',\n",
        "  'Clave Estatus Inscripcion',\n",
        "  'Nombre Materia Largo',\n",
        "  'Numero Grupo',\n",
        "  'Ind Materia Tec21',\n",
        "  'Nombre Departamento Materia',\n",
        "  'Crn',\n",
        "  'Periodo.1',\n",
        "  'Desc Estatus Insc Grupo',\n",
        "  'Calificacion Final (Lista)',\n",
        "  'Valor Calif Final',\n",
        "  'Calificacion Final Real (HA)'\n",
        "  'v_Tuvo cambio de calificación?',\n",
        "  'Clave Beca',\n",
        "  'Desc Beca',\n",
        "  'Clave Plan Beca',\n",
        "  'Nombre Campus',\n",
        "  'Clave\\nEjercicio Académico',\n",
        "  'Ind Plan Tec21',\n",
        "  'Ind Materia Life'\n",
        "  'Auditoria Grado del Programa Alumno.Total Uni Acred Plan',\n",
        "  'Créditos',\n",
        "  'Periodo.1',\n",
        "  'v_Tuvo cambio de calificación?',\n",
        "  'Clave Major Pgma Acad',\n",
        "  'Clave Programa Académico',\n",
        "  'Semestre',\n",
        "  'Clave Materia',\n",
        "  'Ind Materia Life',\n",
        "  # Pendientes\n",
        "  'Clave Departamento Materia',\n",
        "  'Desc Plan Beca',\n",
        "]\n",
        "\n",
        "\n",
        "columnas_deseadas = []\n",
        "\n",
        "for c in list(alumnos.columns.array):\n",
        "  if c not in columnas_no_deseadas:\n",
        "    columnas_deseadas.append(c)\n",
        "\n",
        "columnas_deseadas"
      ],
      "execution_count": null,
      "outputs": [
        {
          "output_type": "execute_result",
          "data": {
            "text/plain": [
              "['Unnamed: 0',\n",
              " 'v_Siglas Escuela por Major',\n",
              " 'Puntaje PAA',\n",
              " 'Desc Periodo Academico',\n",
              " 'Promedio del ejercicio anterior',\n",
              " 'Promedio acumulado',\n",
              " 'v_Clasificación ingreso alumno',\n",
              " 'Unidades Inscritas Ejer',\n",
              " 'Periodo',\n",
              " 'v_Tipo de materia (UF)',\n",
              " 'Horas Clase',\n",
              " 'Horas Laboratorio',\n",
              " 'Unidades',\n",
              " 'Clave Estatus Insc Grupo',\n",
              " 'Calificacion Final Real (HA)',\n",
              " 'Valor Calif Final Real']"
            ]
          },
          "metadata": {},
          "execution_count": 126
        }
      ]
    },
    {
      "cell_type": "code",
      "metadata": {
        "id": "F3MlH5aSYNKM",
        "colab": {
          "base_uri": "https://localhost:8080/"
        },
        "outputId": "63a9e6bc-3201-454a-8a79-f9fa90915f65"
      },
      "source": [
        "for column in alumnos[columnas_deseadas].columns:\n",
        "  if len(alumnos[column].unique()) < 10:\n",
        "    print(column)\n",
        "    print(alumnos[column].unique())\n",
        "    print()\n",
        "  else:\n",
        "    print(column)\n",
        "    print(len(alumnos[column].unique()))"
      ],
      "execution_count": null,
      "outputs": [
        {
          "output_type": "stream",
          "name": "stdout",
          "text": [
            "v_Siglas Escuela por Major\n",
            "['EAAD' 'ECSG' 'EIC' 'EN' 'EMCS' 'Programa no clasificado' 'VI' 'EHE']\n",
            "\n",
            "Puntaje PAA\n",
            "371\n",
            "Desc Periodo Academico\n",
            "['Primer Semestre' nan 'Segundo Semestre' 'Faltan Datos'\n",
            " 'Pendiente de Calcular' 'Tercer Semestre' 'Cuarto Semestre'\n",
            " 'Quinto Semestre']\n",
            "\n",
            "Promedio del ejercicio anterior\n",
            "2502\n",
            "Promedio acumulado\n",
            "3184\n",
            "v_Clasificación ingreso alumno\n",
            "['Reingreso' 'Nuevo Ingreso']\n",
            "\n",
            "Unidades Inscritas Ejer\n",
            "24\n",
            "Periodo\n",
            "['1' '2' '3' '1-3' '1-2' '2-3' 'S/D' nan]\n",
            "\n",
            "v_Tipo de materia (UF)\n",
            "['Bloque' 'Materia' 'Semana Tec']\n",
            "\n",
            "Horas Clase\n",
            "[ 9  3  0  1 12]\n",
            "\n",
            "Horas Laboratorio\n",
            "[0 3 1 4]\n",
            "\n",
            "Unidades\n",
            "[ 8.   2.7  5.3  0.  16.  40.  10.7 21.3]\n",
            "\n",
            "Clave Estatus Insc Grupo\n",
            "['RE' 'BP' 'BT' 'DW']\n",
            "\n",
            "Calificacion Final Real (HA)\n",
            "106\n",
            "Valor Calif Final Real\n",
            "102\n"
          ]
        }
      ]
    },
    {
      "cell_type": "code",
      "metadata": {
        "id": "C97OICazLbS1"
      },
      "source": [
        "promedio = alumnos['Puntaje PAA'].mean()\n",
        "\n",
        "for index, alumno in alumnos.iterrows():\n",
        "  if math.isnan(alumno['Puntaje PAA']):\n",
        "    alumnos.at[index, 'Puntaje PAA'] = int(promedio)\n",
        "    print(f'{index} - {alumno[\"Puntaje PAA\"]}')\n",
        "  else: \n",
        "    alumnos.at[index, 'Puntaje PAA'] = int(alumno[\"Puntaje PAA\"])\n",
        "    print(f'{index} - {alumno[\"Puntaje PAA\"]}')\n",
        "    "
      ],
      "execution_count": null,
      "outputs": []
    },
    {
      "cell_type": "code",
      "metadata": {
        "id": "crZus6irAzx6"
      },
      "source": [
        "becaGen = r'([0-9]*[0-9])+|100'\n",
        "beca030 = r'[0-2][0-9]'\n",
        "beca3070 = r'[3-6][0-9]'\n",
        "beca70100 = r'[7-9][0-9]'\n",
        "\n",
        "for index, alumno in alumnos.iterrows():\n",
        "  b = re.findall(becaGen, str(alumno['Desc Plan Beca']))\n",
        "  if len(b) > 0:\n",
        "    alumnos.at[index, 'Desc Plan Beca'] = int(max(b))\n",
        "    print(f'{index} - {max(b)}')  \n",
        "  else: \n",
        "    alumnos.at[index, 'Desc Plan Beca'] = int(0)\n",
        "  \n"
      ],
      "execution_count": null,
      "outputs": []
    },
    {
      "cell_type": "code",
      "metadata": {
        "id": "36TWICajNkAs"
      },
      "source": [
        "# Limpiar calificaciones no numericas\n",
        "for index, alumno in alumnos.iterrows():\n",
        "  try:\n",
        "    alumnos.at[index, 'Valor Calif Final Real'] = int(alumno['Valor Calif Final Real'])\n",
        "    # print(f'alumno no borrado {index}')\n",
        "  except:\n",
        "    alumnos = alumnos.drop(index = index)\n",
        "    print(f'alumno borrado {index}')\n"
      ],
      "execution_count": null,
      "outputs": []
    },
    {
      "cell_type": "code",
      "metadata": {
        "colab": {
          "base_uri": "https://localhost:8080/"
        },
        "id": "0Y0JjoU2RZVV",
        "outputId": "5190e74d-dba9-419e-847f-e13411e36e70"
      },
      "source": [
        "alumnos['v_Clasificación ingreso alumno'].unique()"
      ],
      "execution_count": null,
      "outputs": [
        {
          "output_type": "execute_result",
          "data": {
            "text/plain": [
              "array(['Reingreso', 'Nuevo Ingreso'], dtype=object)"
            ]
          },
          "metadata": {},
          "execution_count": 107
        }
      ]
    },
    {
      "cell_type": "code",
      "metadata": {
        "id": "exJj8v9MPR34"
      },
      "source": [
        "alumnos = alumnos.dropna()"
      ],
      "execution_count": null,
      "outputs": []
    },
    {
      "cell_type": "code",
      "metadata": {
        "id": "rs9f_jX8Rmxb"
      },
      "source": [
        "periodo_ohe = pd.get_dummies(alumnos['Desc Periodo Academico'])\n",
        "escuelas_ohe = pd.get_dummies(alumnos['v_Siglas Escuela por Major'])\n",
        "ingreso_ohe = pd.get_dummies(alumnos['v_Clasificación ingreso alumno'])\n",
        "preiodo2_ohe = pd.get_dummies(alumnos['Periodo'])\n",
        "materia_ohe = pd.get_dummies(alumnos['v_Tipo de materia (UF)'])\n",
        "estatus_ohe = pd.get_dummies(alumnos['Clave Estatus Insc Grupo'])"
      ],
      "execution_count": null,
      "outputs": []
    },
    {
      "cell_type": "code",
      "metadata": {
        "id": "s67vIMtrTXAN"
      },
      "source": [
        "alumnos = pd.concat([alumnos, periodo_ohe, escuelas_ohe, ingreso_ohe, preiodo2_ohe, materia_ohe, estatus_ohe], axis=1)\n",
        "alumnos"
      ],
      "execution_count": null,
      "outputs": []
    },
    {
      "cell_type": "code",
      "metadata": {
        "id": "ueTPsoo_T2Dc"
      },
      "source": [
        "alumnos = alumnos.drop(['Desc Periodo Academico', 'v_Siglas Escuela por Major', 'v_Clasificación ingreso alumno', 'Periodo', 'v_Tipo de materia (UF)', 'Clave Estatus Insc Grupo'], axis=1)\n"
      ],
      "execution_count": null,
      "outputs": []
    },
    {
      "cell_type": "code",
      "metadata": {
        "id": "18q0vyCrYAsz"
      },
      "source": [
        "alumnos = alumnos.drop(['Calificacion Final Real (HA)'], axis=1)"
      ],
      "execution_count": null,
      "outputs": []
    },
    {
      "cell_type": "code",
      "metadata": {
        "id": "SWlC8yUqYdc5"
      },
      "source": [
        "alumnos.to_csv('checkpoint_final.csv')"
      ],
      "execution_count": null,
      "outputs": []
    },
    {
      "cell_type": "code",
      "metadata": {
        "id": "RP2zNRCP_KbX"
      },
      "source": [
        ""
      ],
      "execution_count": null,
      "outputs": []
    },
    {
      "cell_type": "markdown",
      "metadata": {
        "id": "CPplR-Gf_L9A"
      },
      "source": [
        "## CHECKPOINT FINAL"
      ]
    },
    {
      "cell_type": "code",
      "metadata": {
        "id": "UyIDqTw46cxj"
      },
      "source": [
        "from keras.models import Sequential\n",
        "import tensorflow as tf\n",
        "from tensorflow import keras\n",
        "from keras.models import Sequential\n",
        "from tensorflow.keras.layers import Dense, Dropout\n",
        "from tensorflow.keras.utils import to_categorical"
      ],
      "execution_count": null,
      "outputs": []
    },
    {
      "cell_type": "code",
      "metadata": {
        "colab": {
          "base_uri": "https://localhost:8080/"
        },
        "id": "bJCpKIKaAnpS",
        "outputId": "bc82397b-ed8c-4867-ded4-d4490e00b9c9"
      },
      "source": [
        "!pwd"
      ],
      "execution_count": null,
      "outputs": [
        {
          "output_type": "stream",
          "name": "stdout",
          "text": [
            "/content\n"
          ]
        }
      ]
    },
    {
      "cell_type": "code",
      "metadata": {
        "id": "iynlgnVeYjbf"
      },
      "source": [
        "alumnos = pd.read_csv('/content/checkpoint_final.csv')"
      ],
      "execution_count": null,
      "outputs": []
    },
    {
      "cell_type": "code",
      "metadata": {
        "id": "Y0yH3-aZZRub"
      },
      "source": [
        "alumnos = alumnos.drop(['Unnamed: 0', 'Unnamed: 0.1'], axis=1)"
      ],
      "execution_count": null,
      "outputs": []
    },
    {
      "cell_type": "code",
      "metadata": {
        "id": "TAuDWiouUbHX"
      },
      "source": [
        "x = alumnos[alumnos.columns.difference(['Valor Calif Final Real'])]\n",
        "y = alumnos['Valor Calif Final Real']"
      ],
      "execution_count": null,
      "outputs": []
    },
    {
      "cell_type": "code",
      "metadata": {
        "id": "dRTxlZ6nWXk6",
        "colab": {
          "base_uri": "https://localhost:8080/",
          "height": 490
        },
        "outputId": "599508fe-e580-4218-953f-bf2ece19bd35"
      },
      "source": [
        "alumnos"
      ],
      "execution_count": null,
      "outputs": [
        {
          "output_type": "execute_result",
          "data": {
            "text/html": [
              "<div>\n",
              "<style scoped>\n",
              "    .dataframe tbody tr th:only-of-type {\n",
              "        vertical-align: middle;\n",
              "    }\n",
              "\n",
              "    .dataframe tbody tr th {\n",
              "        vertical-align: top;\n",
              "    }\n",
              "\n",
              "    .dataframe thead th {\n",
              "        text-align: right;\n",
              "    }\n",
              "</style>\n",
              "<table border=\"1\" class=\"dataframe\">\n",
              "  <thead>\n",
              "    <tr style=\"text-align: right;\">\n",
              "      <th></th>\n",
              "      <th>Puntaje PAA</th>\n",
              "      <th>Promedio del ejercicio anterior</th>\n",
              "      <th>Promedio acumulado</th>\n",
              "      <th>Unidades Inscritas Ejer</th>\n",
              "      <th>Horas Clase</th>\n",
              "      <th>Horas Laboratorio</th>\n",
              "      <th>Unidades</th>\n",
              "      <th>Valor Calif Final Real</th>\n",
              "      <th>Cuarto Semestre</th>\n",
              "      <th>Faltan Datos</th>\n",
              "      <th>Pendiente de Calcular</th>\n",
              "      <th>Primer Semestre</th>\n",
              "      <th>Quinto Semestre</th>\n",
              "      <th>Segundo Semestre</th>\n",
              "      <th>Tercer Semestre</th>\n",
              "      <th>EAAD</th>\n",
              "      <th>ECSG</th>\n",
              "      <th>EHE</th>\n",
              "      <th>EIC</th>\n",
              "      <th>EMCS</th>\n",
              "      <th>EN</th>\n",
              "      <th>Programa no clasificado</th>\n",
              "      <th>VI</th>\n",
              "      <th>Nuevo Ingreso</th>\n",
              "      <th>Reingreso</th>\n",
              "      <th>1</th>\n",
              "      <th>1-2</th>\n",
              "      <th>1-3</th>\n",
              "      <th>2</th>\n",
              "      <th>2-3</th>\n",
              "      <th>3</th>\n",
              "      <th>S/D</th>\n",
              "      <th>Bloque</th>\n",
              "      <th>Materia</th>\n",
              "      <th>Semana Tec</th>\n",
              "      <th>BP</th>\n",
              "      <th>RE</th>\n",
              "    </tr>\n",
              "  </thead>\n",
              "  <tbody>\n",
              "    <tr>\n",
              "      <th>0</th>\n",
              "      <td>1289.0</td>\n",
              "      <td>46.06</td>\n",
              "      <td>46.06</td>\n",
              "      <td>15.0</td>\n",
              "      <td>9</td>\n",
              "      <td>0</td>\n",
              "      <td>8.0</td>\n",
              "      <td>75.0</td>\n",
              "      <td>0</td>\n",
              "      <td>0</td>\n",
              "      <td>0</td>\n",
              "      <td>1</td>\n",
              "      <td>0</td>\n",
              "      <td>0</td>\n",
              "      <td>0</td>\n",
              "      <td>1</td>\n",
              "      <td>0</td>\n",
              "      <td>0</td>\n",
              "      <td>0</td>\n",
              "      <td>0</td>\n",
              "      <td>0</td>\n",
              "      <td>0</td>\n",
              "      <td>0</td>\n",
              "      <td>0</td>\n",
              "      <td>1</td>\n",
              "      <td>1</td>\n",
              "      <td>0</td>\n",
              "      <td>0</td>\n",
              "      <td>0</td>\n",
              "      <td>0</td>\n",
              "      <td>0</td>\n",
              "      <td>0</td>\n",
              "      <td>1</td>\n",
              "      <td>0</td>\n",
              "      <td>0</td>\n",
              "      <td>0</td>\n",
              "      <td>1</td>\n",
              "    </tr>\n",
              "    <tr>\n",
              "      <th>1</th>\n",
              "      <td>1289.0</td>\n",
              "      <td>46.06</td>\n",
              "      <td>46.06</td>\n",
              "      <td>15.0</td>\n",
              "      <td>9</td>\n",
              "      <td>0</td>\n",
              "      <td>8.0</td>\n",
              "      <td>58.0</td>\n",
              "      <td>0</td>\n",
              "      <td>0</td>\n",
              "      <td>0</td>\n",
              "      <td>1</td>\n",
              "      <td>0</td>\n",
              "      <td>0</td>\n",
              "      <td>0</td>\n",
              "      <td>1</td>\n",
              "      <td>0</td>\n",
              "      <td>0</td>\n",
              "      <td>0</td>\n",
              "      <td>0</td>\n",
              "      <td>0</td>\n",
              "      <td>0</td>\n",
              "      <td>0</td>\n",
              "      <td>0</td>\n",
              "      <td>1</td>\n",
              "      <td>0</td>\n",
              "      <td>0</td>\n",
              "      <td>0</td>\n",
              "      <td>1</td>\n",
              "      <td>0</td>\n",
              "      <td>0</td>\n",
              "      <td>0</td>\n",
              "      <td>1</td>\n",
              "      <td>0</td>\n",
              "      <td>0</td>\n",
              "      <td>0</td>\n",
              "      <td>1</td>\n",
              "    </tr>\n",
              "    <tr>\n",
              "      <th>2</th>\n",
              "      <td>1289.0</td>\n",
              "      <td>46.06</td>\n",
              "      <td>46.06</td>\n",
              "      <td>15.0</td>\n",
              "      <td>9</td>\n",
              "      <td>0</td>\n",
              "      <td>8.0</td>\n",
              "      <td>54.0</td>\n",
              "      <td>0</td>\n",
              "      <td>0</td>\n",
              "      <td>0</td>\n",
              "      <td>1</td>\n",
              "      <td>0</td>\n",
              "      <td>0</td>\n",
              "      <td>0</td>\n",
              "      <td>1</td>\n",
              "      <td>0</td>\n",
              "      <td>0</td>\n",
              "      <td>0</td>\n",
              "      <td>0</td>\n",
              "      <td>0</td>\n",
              "      <td>0</td>\n",
              "      <td>0</td>\n",
              "      <td>0</td>\n",
              "      <td>1</td>\n",
              "      <td>0</td>\n",
              "      <td>0</td>\n",
              "      <td>0</td>\n",
              "      <td>0</td>\n",
              "      <td>0</td>\n",
              "      <td>1</td>\n",
              "      <td>0</td>\n",
              "      <td>1</td>\n",
              "      <td>0</td>\n",
              "      <td>0</td>\n",
              "      <td>0</td>\n",
              "      <td>1</td>\n",
              "    </tr>\n",
              "    <tr>\n",
              "      <th>3</th>\n",
              "      <td>1289.0</td>\n",
              "      <td>46.06</td>\n",
              "      <td>46.06</td>\n",
              "      <td>15.0</td>\n",
              "      <td>3</td>\n",
              "      <td>0</td>\n",
              "      <td>8.0</td>\n",
              "      <td>5.0</td>\n",
              "      <td>0</td>\n",
              "      <td>0</td>\n",
              "      <td>0</td>\n",
              "      <td>1</td>\n",
              "      <td>0</td>\n",
              "      <td>0</td>\n",
              "      <td>0</td>\n",
              "      <td>1</td>\n",
              "      <td>0</td>\n",
              "      <td>0</td>\n",
              "      <td>0</td>\n",
              "      <td>0</td>\n",
              "      <td>0</td>\n",
              "      <td>0</td>\n",
              "      <td>0</td>\n",
              "      <td>0</td>\n",
              "      <td>1</td>\n",
              "      <td>0</td>\n",
              "      <td>0</td>\n",
              "      <td>1</td>\n",
              "      <td>0</td>\n",
              "      <td>0</td>\n",
              "      <td>0</td>\n",
              "      <td>0</td>\n",
              "      <td>0</td>\n",
              "      <td>1</td>\n",
              "      <td>0</td>\n",
              "      <td>0</td>\n",
              "      <td>1</td>\n",
              "    </tr>\n",
              "    <tr>\n",
              "      <th>4</th>\n",
              "      <td>1289.0</td>\n",
              "      <td>46.06</td>\n",
              "      <td>46.06</td>\n",
              "      <td>15.0</td>\n",
              "      <td>3</td>\n",
              "      <td>0</td>\n",
              "      <td>2.7</td>\n",
              "      <td>3.0</td>\n",
              "      <td>0</td>\n",
              "      <td>0</td>\n",
              "      <td>0</td>\n",
              "      <td>1</td>\n",
              "      <td>0</td>\n",
              "      <td>0</td>\n",
              "      <td>0</td>\n",
              "      <td>1</td>\n",
              "      <td>0</td>\n",
              "      <td>0</td>\n",
              "      <td>0</td>\n",
              "      <td>0</td>\n",
              "      <td>0</td>\n",
              "      <td>0</td>\n",
              "      <td>0</td>\n",
              "      <td>0</td>\n",
              "      <td>1</td>\n",
              "      <td>0</td>\n",
              "      <td>0</td>\n",
              "      <td>0</td>\n",
              "      <td>0</td>\n",
              "      <td>0</td>\n",
              "      <td>1</td>\n",
              "      <td>0</td>\n",
              "      <td>0</td>\n",
              "      <td>1</td>\n",
              "      <td>0</td>\n",
              "      <td>0</td>\n",
              "      <td>1</td>\n",
              "    </tr>\n",
              "    <tr>\n",
              "      <th>...</th>\n",
              "      <td>...</td>\n",
              "      <td>...</td>\n",
              "      <td>...</td>\n",
              "      <td>...</td>\n",
              "      <td>...</td>\n",
              "      <td>...</td>\n",
              "      <td>...</td>\n",
              "      <td>...</td>\n",
              "      <td>...</td>\n",
              "      <td>...</td>\n",
              "      <td>...</td>\n",
              "      <td>...</td>\n",
              "      <td>...</td>\n",
              "      <td>...</td>\n",
              "      <td>...</td>\n",
              "      <td>...</td>\n",
              "      <td>...</td>\n",
              "      <td>...</td>\n",
              "      <td>...</td>\n",
              "      <td>...</td>\n",
              "      <td>...</td>\n",
              "      <td>...</td>\n",
              "      <td>...</td>\n",
              "      <td>...</td>\n",
              "      <td>...</td>\n",
              "      <td>...</td>\n",
              "      <td>...</td>\n",
              "      <td>...</td>\n",
              "      <td>...</td>\n",
              "      <td>...</td>\n",
              "      <td>...</td>\n",
              "      <td>...</td>\n",
              "      <td>...</td>\n",
              "      <td>...</td>\n",
              "      <td>...</td>\n",
              "      <td>...</td>\n",
              "      <td>...</td>\n",
              "    </tr>\n",
              "    <tr>\n",
              "      <th>254367</th>\n",
              "      <td>1410.0</td>\n",
              "      <td>92.50</td>\n",
              "      <td>90.25</td>\n",
              "      <td>18.0</td>\n",
              "      <td>0</td>\n",
              "      <td>0</td>\n",
              "      <td>0.0</td>\n",
              "      <td>100.0</td>\n",
              "      <td>0</td>\n",
              "      <td>0</td>\n",
              "      <td>0</td>\n",
              "      <td>0</td>\n",
              "      <td>0</td>\n",
              "      <td>1</td>\n",
              "      <td>0</td>\n",
              "      <td>0</td>\n",
              "      <td>0</td>\n",
              "      <td>0</td>\n",
              "      <td>0</td>\n",
              "      <td>1</td>\n",
              "      <td>0</td>\n",
              "      <td>0</td>\n",
              "      <td>0</td>\n",
              "      <td>0</td>\n",
              "      <td>1</td>\n",
              "      <td>0</td>\n",
              "      <td>0</td>\n",
              "      <td>0</td>\n",
              "      <td>1</td>\n",
              "      <td>0</td>\n",
              "      <td>0</td>\n",
              "      <td>0</td>\n",
              "      <td>0</td>\n",
              "      <td>0</td>\n",
              "      <td>1</td>\n",
              "      <td>0</td>\n",
              "      <td>1</td>\n",
              "    </tr>\n",
              "    <tr>\n",
              "      <th>254368</th>\n",
              "      <td>1410.0</td>\n",
              "      <td>92.50</td>\n",
              "      <td>90.25</td>\n",
              "      <td>18.0</td>\n",
              "      <td>0</td>\n",
              "      <td>0</td>\n",
              "      <td>0.0</td>\n",
              "      <td>100.0</td>\n",
              "      <td>0</td>\n",
              "      <td>0</td>\n",
              "      <td>0</td>\n",
              "      <td>0</td>\n",
              "      <td>0</td>\n",
              "      <td>1</td>\n",
              "      <td>0</td>\n",
              "      <td>0</td>\n",
              "      <td>0</td>\n",
              "      <td>0</td>\n",
              "      <td>0</td>\n",
              "      <td>1</td>\n",
              "      <td>0</td>\n",
              "      <td>0</td>\n",
              "      <td>0</td>\n",
              "      <td>0</td>\n",
              "      <td>1</td>\n",
              "      <td>0</td>\n",
              "      <td>0</td>\n",
              "      <td>0</td>\n",
              "      <td>0</td>\n",
              "      <td>0</td>\n",
              "      <td>1</td>\n",
              "      <td>0</td>\n",
              "      <td>0</td>\n",
              "      <td>0</td>\n",
              "      <td>1</td>\n",
              "      <td>0</td>\n",
              "      <td>1</td>\n",
              "    </tr>\n",
              "    <tr>\n",
              "      <th>254369</th>\n",
              "      <td>1350.0</td>\n",
              "      <td>96.00</td>\n",
              "      <td>0.00</td>\n",
              "      <td>8.0</td>\n",
              "      <td>3</td>\n",
              "      <td>0</td>\n",
              "      <td>8.0</td>\n",
              "      <td>96.0</td>\n",
              "      <td>0</td>\n",
              "      <td>0</td>\n",
              "      <td>0</td>\n",
              "      <td>1</td>\n",
              "      <td>0</td>\n",
              "      <td>0</td>\n",
              "      <td>0</td>\n",
              "      <td>1</td>\n",
              "      <td>0</td>\n",
              "      <td>0</td>\n",
              "      <td>0</td>\n",
              "      <td>0</td>\n",
              "      <td>0</td>\n",
              "      <td>0</td>\n",
              "      <td>0</td>\n",
              "      <td>0</td>\n",
              "      <td>1</td>\n",
              "      <td>1</td>\n",
              "      <td>0</td>\n",
              "      <td>0</td>\n",
              "      <td>0</td>\n",
              "      <td>0</td>\n",
              "      <td>0</td>\n",
              "      <td>0</td>\n",
              "      <td>0</td>\n",
              "      <td>1</td>\n",
              "      <td>0</td>\n",
              "      <td>0</td>\n",
              "      <td>1</td>\n",
              "    </tr>\n",
              "    <tr>\n",
              "      <th>254370</th>\n",
              "      <td>1289.0</td>\n",
              "      <td>0.00</td>\n",
              "      <td>0.00</td>\n",
              "      <td>0.0</td>\n",
              "      <td>1</td>\n",
              "      <td>0</td>\n",
              "      <td>0.0</td>\n",
              "      <td>10.0</td>\n",
              "      <td>0</td>\n",
              "      <td>1</td>\n",
              "      <td>0</td>\n",
              "      <td>0</td>\n",
              "      <td>0</td>\n",
              "      <td>0</td>\n",
              "      <td>0</td>\n",
              "      <td>1</td>\n",
              "      <td>0</td>\n",
              "      <td>0</td>\n",
              "      <td>0</td>\n",
              "      <td>0</td>\n",
              "      <td>0</td>\n",
              "      <td>0</td>\n",
              "      <td>0</td>\n",
              "      <td>0</td>\n",
              "      <td>1</td>\n",
              "      <td>1</td>\n",
              "      <td>0</td>\n",
              "      <td>0</td>\n",
              "      <td>0</td>\n",
              "      <td>0</td>\n",
              "      <td>0</td>\n",
              "      <td>0</td>\n",
              "      <td>0</td>\n",
              "      <td>1</td>\n",
              "      <td>0</td>\n",
              "      <td>0</td>\n",
              "      <td>1</td>\n",
              "    </tr>\n",
              "    <tr>\n",
              "      <th>254371</th>\n",
              "      <td>1289.0</td>\n",
              "      <td>0.00</td>\n",
              "      <td>0.00</td>\n",
              "      <td>0.0</td>\n",
              "      <td>0</td>\n",
              "      <td>0</td>\n",
              "      <td>0.0</td>\n",
              "      <td>0.0</td>\n",
              "      <td>0</td>\n",
              "      <td>1</td>\n",
              "      <td>0</td>\n",
              "      <td>0</td>\n",
              "      <td>0</td>\n",
              "      <td>0</td>\n",
              "      <td>0</td>\n",
              "      <td>1</td>\n",
              "      <td>0</td>\n",
              "      <td>0</td>\n",
              "      <td>0</td>\n",
              "      <td>0</td>\n",
              "      <td>0</td>\n",
              "      <td>0</td>\n",
              "      <td>0</td>\n",
              "      <td>0</td>\n",
              "      <td>1</td>\n",
              "      <td>1</td>\n",
              "      <td>0</td>\n",
              "      <td>0</td>\n",
              "      <td>0</td>\n",
              "      <td>0</td>\n",
              "      <td>0</td>\n",
              "      <td>0</td>\n",
              "      <td>0</td>\n",
              "      <td>0</td>\n",
              "      <td>1</td>\n",
              "      <td>0</td>\n",
              "      <td>1</td>\n",
              "    </tr>\n",
              "  </tbody>\n",
              "</table>\n",
              "<p>254372 rows × 37 columns</p>\n",
              "</div>"
            ],
            "text/plain": [
              "        Puntaje PAA  Promedio del ejercicio anterior  ...  BP  RE\n",
              "0            1289.0                            46.06  ...   0   1\n",
              "1            1289.0                            46.06  ...   0   1\n",
              "2            1289.0                            46.06  ...   0   1\n",
              "3            1289.0                            46.06  ...   0   1\n",
              "4            1289.0                            46.06  ...   0   1\n",
              "...             ...                              ...  ...  ..  ..\n",
              "254367       1410.0                            92.50  ...   0   1\n",
              "254368       1410.0                            92.50  ...   0   1\n",
              "254369       1350.0                            96.00  ...   0   1\n",
              "254370       1289.0                             0.00  ...   0   1\n",
              "254371       1289.0                             0.00  ...   0   1\n",
              "\n",
              "[254372 rows x 37 columns]"
            ]
          },
          "metadata": {},
          "execution_count": 7
        }
      ]
    },
    {
      "cell_type": "code",
      "metadata": {
        "id": "jxlaHVCpUkCt"
      },
      "source": [
        "train_x = x[:int(254372*0.8)].to_numpy().astype('float32')\n",
        "train_y = y[:int(254372*0.8)].to_numpy().astype('float32')\n",
        "test_x = x[:int(254372*0.2)].to_numpy().astype('float32')\n",
        "test_y = y[:int(254372*0.2)].to_numpy().astype('float32')"
      ],
      "execution_count": null,
      "outputs": []
    },
    {
      "cell_type": "code",
      "metadata": {
        "colab": {
          "base_uri": "https://localhost:8080/"
        },
        "id": "nFMmEB7MW5k9",
        "outputId": "173a959e-3e60-4cb0-e907-cd2bd6bfc862"
      },
      "source": [
        "train_x[0].shape"
      ],
      "execution_count": null,
      "outputs": [
        {
          "output_type": "execute_result",
          "data": {
            "text/plain": [
              "(36,)"
            ]
          },
          "metadata": {},
          "execution_count": 9
        }
      ]
    },
    {
      "cell_type": "code",
      "metadata": {
        "id": "K785FiH_6cz8",
        "colab": {
          "base_uri": "https://localhost:8080/"
        },
        "outputId": "14d42237-7e40-4bb6-e707-6ea38549ecee"
      },
      "source": [
        "!pip install -q -U keras-tuner"
      ],
      "execution_count": null,
      "outputs": [
        {
          "output_type": "stream",
          "name": "stdout",
          "text": [
            "\u001b[?25l\r\u001b[K     |███▍                            | 10 kB 24.2 MB/s eta 0:00:01\r\u001b[K     |██████▊                         | 20 kB 24.3 MB/s eta 0:00:01\r\u001b[K     |██████████                      | 30 kB 11.6 MB/s eta 0:00:01\r\u001b[K     |█████████████▍                  | 40 kB 9.3 MB/s eta 0:00:01\r\u001b[K     |████████████████▊               | 51 kB 5.1 MB/s eta 0:00:01\r\u001b[K     |████████████████████            | 61 kB 5.3 MB/s eta 0:00:01\r\u001b[K     |███████████████████████▍        | 71 kB 5.9 MB/s eta 0:00:01\r\u001b[K     |██████████████████████████▊     | 81 kB 6.5 MB/s eta 0:00:01\r\u001b[K     |██████████████████████████████  | 92 kB 6.4 MB/s eta 0:00:01\r\u001b[K     |████████████████████████████████| 98 kB 3.7 MB/s \n",
            "\u001b[31mERROR: Operation cancelled by user\u001b[0m\n",
            "\u001b[?25h"
          ]
        }
      ]
    },
    {
      "cell_type": "code",
      "metadata": {
        "id": "aTgC6Lci6dzL"
      },
      "source": [
        "import keras_tuner as kt"
      ],
      "execution_count": null,
      "outputs": []
    },
    {
      "cell_type": "code",
      "metadata": {
        "id": "zhQiFF-R6f7F"
      },
      "source": [
        "def build_model(hp):\n",
        "  model = keras.Sequential()\n",
        "  model.add(keras.layers.Dense(\n",
        "      hp.Choice('units', [64, 128]),\n",
        "      activation='relu', input_shape=(36,)))\n",
        "  for i in range(hp.Int(\"num_layers\", 2, 4, 8)):\n",
        "        model.add(\n",
        "            keras.layers.Dense(\n",
        "                hp.Choice('units_2', [32, 64, 128]),\n",
        "                activation=\"relu\",\n",
        "            )\n",
        "        )\n",
        "        model.add(keras.layers.Dropout(hp.Choice('dropout_rate', [0.1, 0.2, 0.3])))\n",
        "  model.add(keras.layers.Dense(1, activation='relu'))\n",
        "  model.compile(loss='mse', optimizer='adam', metrics=['mse'])\n",
        "  return model"
      ],
      "execution_count": null,
      "outputs": []
    },
    {
      "cell_type": "code",
      "metadata": {
        "id": "NLV-KNYY6j_E"
      },
      "source": [
        "tuner = kt.RandomSearch(\n",
        "    build_model,\n",
        "    objective='mse',\n",
        "    max_trials=3)"
      ],
      "execution_count": null,
      "outputs": []
    },
    {
      "cell_type": "code",
      "metadata": {
        "id": "Iue1i3WF6nU1",
        "colab": {
          "base_uri": "https://localhost:8080/"
        },
        "outputId": "3835d86c-9c07-47df-ea1f-5ddb2f7f4c85"
      },
      "source": [
        "tuner.search(train_x, train_y,epochs=50, verbose=1, validation_data=(test_x, test_y))\n",
        "best_model = tuner.get_best_models()[0]"
      ],
      "execution_count": null,
      "outputs": [
        {
          "output_type": "stream",
          "name": "stdout",
          "text": [
            "Trial 2 Complete [00h 23m 47s]\n",
            "mse: 212.32798767089844\n",
            "\n",
            "Best mse So Far: 210.1225128173828\n",
            "Total elapsed time: 00h 48m 10s\n",
            "\n",
            "Search: Running Trial #3\n",
            "\n",
            "Hyperparameter    |Value             |Best Value So Far \n",
            "units             |128               |128               \n",
            "num_layers        |2                 |2                 \n",
            "units_2           |128               |128               \n",
            "dropout_rate      |0.3               |0.1               \n",
            "\n",
            "Epoch 1/50\n",
            "6360/6360 [==============================] - 31s 5ms/step - loss: 546.2796 - mse: 546.2796 - val_loss: 1167.3210 - val_mse: 1167.3210\n",
            "Epoch 2/50\n",
            "6360/6360 [==============================] - 28s 4ms/step - loss: 435.9831 - mse: 435.9831 - val_loss: 775.4706 - val_mse: 775.4706\n",
            "Epoch 3/50\n",
            "6360/6360 [==============================] - 29s 5ms/step - loss: 310.5353 - mse: 310.5353 - val_loss: 693.4631 - val_mse: 693.4631\n",
            "Epoch 4/50\n",
            "6360/6360 [==============================] - 28s 4ms/step - loss: 280.5044 - mse: 280.5044 - val_loss: 428.6047 - val_mse: 428.6047\n",
            "Epoch 5/50\n",
            "6360/6360 [==============================] - 29s 5ms/step - loss: 273.0260 - mse: 273.0260 - val_loss: 548.0718 - val_mse: 548.0718\n",
            "Epoch 6/50\n",
            "6360/6360 [==============================] - 28s 4ms/step - loss: 269.0014 - mse: 269.0014 - val_loss: 441.2174 - val_mse: 441.2174\n",
            "Epoch 7/50\n",
            "6360/6360 [==============================] - 28s 4ms/step - loss: 262.6858 - mse: 262.6858 - val_loss: 497.6095 - val_mse: 497.6095\n",
            "Epoch 8/50\n",
            "6360/6360 [==============================] - 29s 5ms/step - loss: 259.6639 - mse: 259.6639 - val_loss: 511.4748 - val_mse: 511.4748\n",
            "Epoch 9/50\n",
            "6360/6360 [==============================] - 28s 4ms/step - loss: 270.4999 - mse: 270.4999 - val_loss: 556.2452 - val_mse: 556.2452\n",
            "Epoch 10/50\n",
            "6360/6360 [==============================] - 30s 5ms/step - loss: 330.7468 - mse: 330.7468 - val_loss: 494.9441 - val_mse: 494.9441\n",
            "Epoch 11/50\n",
            "6360/6360 [==============================] - 29s 5ms/step - loss: 395.5166 - mse: 395.5166 - val_loss: 443.0398 - val_mse: 443.0398\n",
            "Epoch 12/50\n",
            "6360/6360 [==============================] - 28s 4ms/step - loss: 396.2848 - mse: 396.2848 - val_loss: 441.5868 - val_mse: 441.5868\n",
            "Epoch 13/50\n",
            "6360/6360 [==============================] - 28s 4ms/step - loss: 388.6395 - mse: 388.6395 - val_loss: 445.5547 - val_mse: 445.5547\n",
            "Epoch 14/50\n",
            "6360/6360 [==============================] - 29s 5ms/step - loss: 337.2636 - mse: 337.2636 - val_loss: 420.1934 - val_mse: 420.1934\n",
            "Epoch 15/50\n",
            "6360/6360 [==============================] - 28s 4ms/step - loss: 290.1985 - mse: 290.1985 - val_loss: 335.0357 - val_mse: 335.0357\n",
            "Epoch 16/50\n",
            "6360/6360 [==============================] - 30s 5ms/step - loss: 287.3681 - mse: 287.3681 - val_loss: 345.8681 - val_mse: 345.8681\n",
            "Epoch 17/50\n",
            "6360/6360 [==============================] - 30s 5ms/step - loss: 293.5402 - mse: 293.5402 - val_loss: 498.2350 - val_mse: 498.2350\n",
            "Epoch 18/50\n",
            "6360/6360 [==============================] - 28s 4ms/step - loss: 265.3427 - mse: 265.3427 - val_loss: 294.6918 - val_mse: 294.6918\n",
            "Epoch 19/50\n",
            "6360/6360 [==============================] - 30s 5ms/step - loss: 279.0046 - mse: 279.0046 - val_loss: 277.9609 - val_mse: 277.9609\n",
            "Epoch 20/50\n",
            "6360/6360 [==============================] - 29s 5ms/step - loss: 256.7938 - mse: 256.7938 - val_loss: 338.6857 - val_mse: 338.6857\n",
            "Epoch 21/50\n",
            "6360/6360 [==============================] - 29s 5ms/step - loss: 253.7755 - mse: 253.7755 - val_loss: 293.2139 - val_mse: 293.2139\n",
            "Epoch 22/50\n",
            "6360/6360 [==============================] - 28s 4ms/step - loss: 241.0544 - mse: 241.0544 - val_loss: 263.1318 - val_mse: 263.1318\n",
            "Epoch 23/50\n",
            "6360/6360 [==============================] - 30s 5ms/step - loss: 243.9738 - mse: 243.9738 - val_loss: 274.8038 - val_mse: 274.8038\n",
            "Epoch 24/50\n",
            "6360/6360 [==============================] - 28s 4ms/step - loss: 250.8333 - mse: 250.8333 - val_loss: 252.2619 - val_mse: 252.2619\n",
            "Epoch 25/50\n",
            "6360/6360 [==============================] - 30s 5ms/step - loss: 245.9263 - mse: 245.9263 - val_loss: 244.4205 - val_mse: 244.4205\n",
            "Epoch 26/50\n",
            "6360/6360 [==============================] - 28s 4ms/step - loss: 257.8896 - mse: 257.8896 - val_loss: 300.7256 - val_mse: 300.7256\n",
            "Epoch 27/50\n",
            "6360/6360 [==============================] - 29s 5ms/step - loss: 247.1744 - mse: 247.1744 - val_loss: 266.6116 - val_mse: 266.6116\n",
            "Epoch 28/50\n",
            "6360/6360 [==============================] - 28s 4ms/step - loss: 246.4726 - mse: 246.4726 - val_loss: 268.2587 - val_mse: 268.2587\n",
            "Epoch 29/50\n",
            "6360/6360 [==============================] - 29s 5ms/step - loss: 244.9394 - mse: 244.9394 - val_loss: 247.3929 - val_mse: 247.3929\n",
            "Epoch 30/50\n",
            "6360/6360 [==============================] - 29s 4ms/step - loss: 241.4064 - mse: 241.4064 - val_loss: 260.0588 - val_mse: 260.0588\n",
            "Epoch 31/50\n",
            "6360/6360 [==============================] - 30s 5ms/step - loss: 238.0860 - mse: 238.0860 - val_loss: 248.1269 - val_mse: 248.1269\n",
            "Epoch 32/50\n",
            "6360/6360 [==============================] - 28s 4ms/step - loss: 259.4335 - mse: 259.4335 - val_loss: 251.8654 - val_mse: 251.8654\n",
            "Epoch 33/50\n",
            "6360/6360 [==============================] - 30s 5ms/step - loss: 234.5167 - mse: 234.5167 - val_loss: 278.6933 - val_mse: 278.6933\n",
            "Epoch 34/50\n",
            "6360/6360 [==============================] - 30s 5ms/step - loss: 252.1300 - mse: 252.1300 - val_loss: 250.5221 - val_mse: 250.5221\n",
            "Epoch 35/50\n",
            "6360/6360 [==============================] - 28s 4ms/step - loss: 240.1238 - mse: 240.1238 - val_loss: 251.4398 - val_mse: 251.4398\n",
            "Epoch 36/50\n",
            "6360/6360 [==============================] - 30s 5ms/step - loss: 232.0782 - mse: 232.0782 - val_loss: 260.8644 - val_mse: 260.8644\n",
            "Epoch 37/50\n",
            "6360/6360 [==============================] - 28s 4ms/step - loss: 231.5606 - mse: 231.5606 - val_loss: 276.4338 - val_mse: 276.4338\n",
            "Epoch 38/50\n",
            "6360/6360 [==============================] - 30s 5ms/step - loss: 254.7099 - mse: 254.7099 - val_loss: 264.2953 - val_mse: 264.2953\n",
            "Epoch 39/50\n",
            "6360/6360 [==============================] - 30s 5ms/step - loss: 243.3728 - mse: 243.3728 - val_loss: 255.3301 - val_mse: 255.3301\n",
            "Epoch 40/50\n",
            "6360/6360 [==============================] - 29s 5ms/step - loss: 229.0964 - mse: 229.0964 - val_loss: 273.7661 - val_mse: 273.7661\n",
            "Epoch 41/50\n",
            "6360/6360 [==============================] - 28s 4ms/step - loss: 230.1725 - mse: 230.1725 - val_loss: 280.2248 - val_mse: 280.2248\n",
            "Epoch 42/50\n",
            "6360/6360 [==============================] - 30s 5ms/step - loss: 228.3709 - mse: 228.3709 - val_loss: 245.7224 - val_mse: 245.7224\n",
            "Epoch 43/50\n",
            "6088/6360 [===========================>..] - ETA: 1s - loss: 227.3591 - mse: 227.3591"
          ]
        }
      ]
    },
    {
      "cell_type": "code",
      "metadata": {
        "id": "h2FuNqe4ZEoG"
      },
      "source": [
        "model = tf.keras.models.Sequential([\n",
        "  # Capa de entrada\n",
        "  keras.layers.Dense(128, activation='relu', input_shape=(36,)),\n",
        "  # Capas internas \n",
        "  keras.layers.Dense(128, activation=\"relu\"), \n",
        "  keras.layers.Dense(128, activation=\"relu\"),\n",
        "\n",
        "  keras.layers.Dropout(0.1),\n",
        "  keras.layers.Dense(1, activation='relu')\n",
        "  ])\n",
        "model.compile(loss='mse', optimizer='adam', metrics=['mse'])"
      ],
      "execution_count": null,
      "outputs": []
    },
    {
      "cell_type": "code",
      "metadata": {
        "colab": {
          "base_uri": "https://localhost:8080/"
        },
        "id": "hm_XmUnFeS_D",
        "outputId": "76eb8c0a-f2f0-456a-9f44-f3ebd3ba8abb"
      },
      "source": [
        "model.fit(x=train_x, y=train_y, epochs=100, validation_data=(test_x, test_y), verbose=1)"
      ],
      "execution_count": null,
      "outputs": [
        {
          "output_type": "stream",
          "name": "stdout",
          "text": [
            "Epoch 1/100\n",
            "6360/6360 [==============================] - 32s 5ms/step - loss: 428.0970 - mse: 428.0970 - val_loss: 385.7904 - val_mse: 385.7904\n",
            "Epoch 2/100\n",
            "6360/6360 [==============================] - 29s 5ms/step - loss: 331.1635 - mse: 331.1635 - val_loss: 329.2850 - val_mse: 329.2850\n",
            "Epoch 3/100\n",
            "6360/6360 [==============================] - 29s 5ms/step - loss: 295.8436 - mse: 295.8436 - val_loss: 249.6599 - val_mse: 249.6599\n",
            "Epoch 4/100\n",
            "6360/6360 [==============================] - 29s 5ms/step - loss: 247.7831 - mse: 247.7831 - val_loss: 241.0589 - val_mse: 241.0589\n",
            "Epoch 5/100\n",
            "6360/6360 [==============================] - 27s 4ms/step - loss: 254.5152 - mse: 254.5152 - val_loss: 233.2015 - val_mse: 233.2015\n",
            "Epoch 6/100\n",
            "6360/6360 [==============================] - 29s 5ms/step - loss: 241.5715 - mse: 241.5715 - val_loss: 229.6668 - val_mse: 229.6668\n",
            "Epoch 7/100\n",
            "6360/6360 [==============================] - 29s 5ms/step - loss: 240.2880 - mse: 240.2880 - val_loss: 263.6728 - val_mse: 263.6728\n",
            "Epoch 8/100\n",
            "6360/6360 [==============================] - 27s 4ms/step - loss: 237.9027 - mse: 237.9027 - val_loss: 230.2530 - val_mse: 230.2530\n",
            "Epoch 9/100\n",
            "6360/6360 [==============================] - 27s 4ms/step - loss: 235.4889 - mse: 235.4889 - val_loss: 245.6653 - val_mse: 245.6653\n",
            "Epoch 10/100\n",
            "6360/6360 [==============================] - 28s 4ms/step - loss: 232.0238 - mse: 232.0238 - val_loss: 246.9071 - val_mse: 246.9071\n",
            "Epoch 11/100\n",
            "6360/6360 [==============================] - 29s 5ms/step - loss: 226.6729 - mse: 226.6729 - val_loss: 245.0294 - val_mse: 245.0294\n",
            "Epoch 12/100\n",
            "6360/6360 [==============================] - 29s 5ms/step - loss: 226.9019 - mse: 226.9019 - val_loss: 226.0604 - val_mse: 226.0604\n",
            "Epoch 13/100\n",
            "6360/6360 [==============================] - 28s 4ms/step - loss: 243.9003 - mse: 243.9003 - val_loss: 252.9578 - val_mse: 252.9578\n",
            "Epoch 14/100\n",
            "6360/6360 [==============================] - 28s 4ms/step - loss: 228.1048 - mse: 228.1048 - val_loss: 245.4204 - val_mse: 245.4204\n",
            "Epoch 15/100\n",
            "6360/6360 [==============================] - 28s 4ms/step - loss: 226.6494 - mse: 226.6494 - val_loss: 232.9369 - val_mse: 232.9369\n",
            "Epoch 16/100\n",
            "6360/6360 [==============================] - 29s 5ms/step - loss: 223.9021 - mse: 223.9021 - val_loss: 232.9866 - val_mse: 232.9866\n",
            "Epoch 17/100\n",
            "6360/6360 [==============================] - 27s 4ms/step - loss: 223.7831 - mse: 223.7831 - val_loss: 256.8910 - val_mse: 256.8910\n",
            "Epoch 18/100\n",
            "6360/6360 [==============================] - 27s 4ms/step - loss: 221.2222 - mse: 221.2222 - val_loss: 230.7886 - val_mse: 230.7886\n",
            "Epoch 19/100\n",
            "6360/6360 [==============================] - 29s 5ms/step - loss: 220.5464 - mse: 220.5464 - val_loss: 254.2288 - val_mse: 254.2288\n",
            "Epoch 20/100\n",
            "6360/6360 [==============================] - 27s 4ms/step - loss: 218.1704 - mse: 218.1704 - val_loss: 254.0980 - val_mse: 254.0980\n",
            "Epoch 21/100\n",
            "6360/6360 [==============================] - 27s 4ms/step - loss: 219.3115 - mse: 219.3115 - val_loss: 231.6764 - val_mse: 231.6764\n",
            "Epoch 22/100\n",
            "6360/6360 [==============================] - 29s 5ms/step - loss: 216.9761 - mse: 216.9761 - val_loss: 234.8804 - val_mse: 234.8804\n",
            "Epoch 23/100\n",
            "6360/6360 [==============================] - 27s 4ms/step - loss: 215.9138 - mse: 215.9138 - val_loss: 235.5101 - val_mse: 235.5101\n",
            "Epoch 24/100\n",
            "6360/6360 [==============================] - 27s 4ms/step - loss: 214.9092 - mse: 214.9092 - val_loss: 226.1814 - val_mse: 226.1814\n",
            "Epoch 25/100\n",
            "6360/6360 [==============================] - 27s 4ms/step - loss: 216.0754 - mse: 216.0754 - val_loss: 250.6696 - val_mse: 250.6696\n",
            "Epoch 26/100\n",
            "6360/6360 [==============================] - 27s 4ms/step - loss: 214.0598 - mse: 214.0598 - val_loss: 224.5772 - val_mse: 224.5772\n",
            "Epoch 27/100\n",
            "6360/6360 [==============================] - 29s 5ms/step - loss: 213.7026 - mse: 213.7026 - val_loss: 235.6555 - val_mse: 235.6555\n",
            "Epoch 28/100\n",
            "6360/6360 [==============================] - 27s 4ms/step - loss: 213.2708 - mse: 213.2708 - val_loss: 223.2198 - val_mse: 223.2198\n",
            "Epoch 29/100\n",
            "6360/6360 [==============================] - 30s 5ms/step - loss: 212.5166 - mse: 212.5166 - val_loss: 224.5866 - val_mse: 224.5866\n",
            "Epoch 30/100\n",
            "6360/6360 [==============================] - 28s 4ms/step - loss: 212.7690 - mse: 212.7690 - val_loss: 230.4073 - val_mse: 230.4073\n",
            "Epoch 31/100\n",
            "6360/6360 [==============================] - 27s 4ms/step - loss: 211.9063 - mse: 211.9063 - val_loss: 224.5236 - val_mse: 224.5236\n",
            "Epoch 32/100\n",
            "6360/6360 [==============================] - 28s 4ms/step - loss: 210.9635 - mse: 210.9635 - val_loss: 226.2671 - val_mse: 226.2671\n",
            "Epoch 33/100\n",
            "6360/6360 [==============================] - 27s 4ms/step - loss: 211.3943 - mse: 211.3943 - val_loss: 222.7162 - val_mse: 222.7162\n",
            "Epoch 34/100\n",
            "6360/6360 [==============================] - 27s 4ms/step - loss: 210.2198 - mse: 210.2198 - val_loss: 223.8640 - val_mse: 223.8640\n",
            "Epoch 35/100\n",
            "6360/6360 [==============================] - 29s 5ms/step - loss: 211.8913 - mse: 211.8913 - val_loss: 227.5689 - val_mse: 227.5689\n",
            "Epoch 36/100\n",
            "6360/6360 [==============================] - 27s 4ms/step - loss: 210.0997 - mse: 210.0997 - val_loss: 223.1566 - val_mse: 223.1566\n",
            "Epoch 37/100\n",
            "6360/6360 [==============================] - 29s 5ms/step - loss: 210.7319 - mse: 210.7319 - val_loss: 225.3047 - val_mse: 225.3047\n",
            "Epoch 38/100\n",
            "6360/6360 [==============================] - 27s 4ms/step - loss: 208.6169 - mse: 208.6169 - val_loss: 246.1145 - val_mse: 246.1145\n",
            "Epoch 39/100\n",
            "6360/6360 [==============================] - 28s 4ms/step - loss: 208.4739 - mse: 208.4739 - val_loss: 233.8161 - val_mse: 233.8161\n",
            "Epoch 40/100\n",
            "6360/6360 [==============================] - 27s 4ms/step - loss: 209.2012 - mse: 209.2012 - val_loss: 241.5241 - val_mse: 241.5241\n",
            "Epoch 41/100\n",
            "6360/6360 [==============================] - 27s 4ms/step - loss: 208.0158 - mse: 208.0158 - val_loss: 221.9652 - val_mse: 221.9652\n",
            "Epoch 42/100\n",
            "6360/6360 [==============================] - 29s 5ms/step - loss: 207.9400 - mse: 207.9400 - val_loss: 228.9981 - val_mse: 228.9981\n",
            "Epoch 43/100\n",
            "6360/6360 [==============================] - 30s 5ms/step - loss: 208.5708 - mse: 208.5708 - val_loss: 228.5876 - val_mse: 228.5876\n",
            "Epoch 44/100\n",
            "6360/6360 [==============================] - 27s 4ms/step - loss: 207.5722 - mse: 207.5722 - val_loss: 224.6338 - val_mse: 224.6338\n",
            "Epoch 45/100\n",
            "6360/6360 [==============================] - 27s 4ms/step - loss: 206.5530 - mse: 206.5530 - val_loss: 226.3824 - val_mse: 226.3824\n",
            "Epoch 46/100\n",
            "6360/6360 [==============================] - 29s 5ms/step - loss: 205.8880 - mse: 205.8880 - val_loss: 221.5848 - val_mse: 221.5848\n",
            "Epoch 47/100\n",
            "6360/6360 [==============================] - 27s 4ms/step - loss: 205.7019 - mse: 205.7019 - val_loss: 228.9211 - val_mse: 228.9211\n",
            "Epoch 48/100\n",
            "6360/6360 [==============================] - 27s 4ms/step - loss: 205.8213 - mse: 205.8213 - val_loss: 221.6103 - val_mse: 221.6103\n",
            "Epoch 49/100\n",
            "6360/6360 [==============================] - 29s 5ms/step - loss: 205.6665 - mse: 205.6665 - val_loss: 222.8017 - val_mse: 222.8017\n",
            "Epoch 50/100\n",
            "6360/6360 [==============================] - 29s 5ms/step - loss: 206.4310 - mse: 206.4310 - val_loss: 244.7822 - val_mse: 244.7822\n",
            "Epoch 51/100\n",
            "6360/6360 [==============================] - 27s 4ms/step - loss: 204.8624 - mse: 204.8624 - val_loss: 223.2829 - val_mse: 223.2829\n",
            "Epoch 52/100\n",
            "6360/6360 [==============================] - 29s 5ms/step - loss: 204.4005 - mse: 204.4005 - val_loss: 228.9393 - val_mse: 228.9393\n",
            "Epoch 53/100\n",
            "6360/6360 [==============================] - 29s 5ms/step - loss: 204.3727 - mse: 204.3727 - val_loss: 229.9006 - val_mse: 229.9006\n",
            "Epoch 54/100\n",
            "6360/6360 [==============================] - 28s 4ms/step - loss: 204.3239 - mse: 204.3239 - val_loss: 226.1811 - val_mse: 226.1811\n",
            "Epoch 55/100\n",
            "6360/6360 [==============================] - 30s 5ms/step - loss: 203.8898 - mse: 203.8898 - val_loss: 235.7457 - val_mse: 235.7457\n",
            "Epoch 56/100\n",
            "6360/6360 [==============================] - 29s 5ms/step - loss: 203.1142 - mse: 203.1142 - val_loss: 224.4948 - val_mse: 224.4948\n",
            "Epoch 57/100\n",
            "6360/6360 [==============================] - 28s 4ms/step - loss: 203.5756 - mse: 203.5756 - val_loss: 222.0513 - val_mse: 222.0513\n",
            "Epoch 58/100\n",
            "6360/6360 [==============================] - 29s 5ms/step - loss: 204.0815 - mse: 204.0815 - val_loss: 225.3056 - val_mse: 225.3056\n",
            "Epoch 59/100\n",
            "6360/6360 [==============================] - 29s 5ms/step - loss: 203.6425 - mse: 203.6425 - val_loss: 223.7759 - val_mse: 223.7759\n",
            "Epoch 60/100\n",
            "6360/6360 [==============================] - 28s 4ms/step - loss: 202.6310 - mse: 202.6310 - val_loss: 223.6011 - val_mse: 223.6011\n",
            "Epoch 61/100\n",
            "6360/6360 [==============================] - 29s 5ms/step - loss: 202.4521 - mse: 202.4521 - val_loss: 222.1946 - val_mse: 222.1946\n",
            "Epoch 62/100\n",
            "6360/6360 [==============================] - 27s 4ms/step - loss: 202.6116 - mse: 202.6116 - val_loss: 234.2984 - val_mse: 234.2984\n",
            "Epoch 63/100\n",
            "6360/6360 [==============================] - 27s 4ms/step - loss: 202.7355 - mse: 202.7355 - val_loss: 229.0031 - val_mse: 229.0031\n",
            "Epoch 64/100\n",
            "6360/6360 [==============================] - 27s 4ms/step - loss: 201.8078 - mse: 201.8078 - val_loss: 236.7894 - val_mse: 236.7894\n",
            "Epoch 65/100\n",
            "6360/6360 [==============================] - 29s 5ms/step - loss: 207.8802 - mse: 207.8802 - val_loss: 233.5957 - val_mse: 233.5957\n",
            "Epoch 66/100\n",
            "6360/6360 [==============================] - 27s 4ms/step - loss: 206.5217 - mse: 206.5217 - val_loss: 224.4892 - val_mse: 224.4892\n",
            "Epoch 67/100\n",
            "6360/6360 [==============================] - 27s 4ms/step - loss: 204.3221 - mse: 204.3221 - val_loss: 225.1605 - val_mse: 225.1605\n",
            "Epoch 68/100\n",
            "6360/6360 [==============================] - 29s 5ms/step - loss: 202.6759 - mse: 202.6759 - val_loss: 227.9237 - val_mse: 227.9237\n",
            "Epoch 69/100\n",
            "6360/6360 [==============================] - 27s 4ms/step - loss: 201.8320 - mse: 201.8320 - val_loss: 220.3879 - val_mse: 220.3879\n",
            "Epoch 70/100\n",
            "6360/6360 [==============================] - 29s 5ms/step - loss: 201.5794 - mse: 201.5794 - val_loss: 222.3270 - val_mse: 222.3270\n",
            "Epoch 71/100\n",
            "6360/6360 [==============================] - 27s 4ms/step - loss: 200.8105 - mse: 200.8105 - val_loss: 225.4995 - val_mse: 225.4995\n",
            "Epoch 72/100\n",
            "6360/6360 [==============================] - 29s 5ms/step - loss: 201.1835 - mse: 201.1835 - val_loss: 231.6800 - val_mse: 231.6800\n",
            "Epoch 73/100\n",
            "6360/6360 [==============================] - 27s 4ms/step - loss: 201.7447 - mse: 201.7447 - val_loss: 223.5828 - val_mse: 223.5828\n",
            "Epoch 74/100\n",
            "6360/6360 [==============================] - 29s 5ms/step - loss: 201.3609 - mse: 201.3609 - val_loss: 234.8197 - val_mse: 234.8197\n",
            "Epoch 75/100\n",
            "6360/6360 [==============================] - 27s 4ms/step - loss: 200.8289 - mse: 200.8289 - val_loss: 240.5464 - val_mse: 240.5464\n",
            "Epoch 76/100\n",
            "6360/6360 [==============================] - 28s 4ms/step - loss: 200.0680 - mse: 200.0680 - val_loss: 223.9054 - val_mse: 223.9054\n",
            "Epoch 77/100\n",
            "6360/6360 [==============================] - 29s 5ms/step - loss: 200.2657 - mse: 200.2657 - val_loss: 232.9852 - val_mse: 232.9852\n",
            "Epoch 78/100\n",
            "6360/6360 [==============================] - 30s 5ms/step - loss: 200.0046 - mse: 200.0046 - val_loss: 224.6151 - val_mse: 224.6151\n",
            "Epoch 79/100\n",
            "6360/6360 [==============================] - 29s 5ms/step - loss: 200.0526 - mse: 200.0526 - val_loss: 222.0680 - val_mse: 222.0680\n",
            "Epoch 80/100\n",
            "6360/6360 [==============================] - 29s 5ms/step - loss: 199.2084 - mse: 199.2084 - val_loss: 228.1666 - val_mse: 228.1666\n",
            "Epoch 81/100\n",
            "6360/6360 [==============================] - 27s 4ms/step - loss: 199.6087 - mse: 199.6087 - val_loss: 237.7526 - val_mse: 237.7526\n",
            "Epoch 82/100\n",
            "6360/6360 [==============================] - 29s 5ms/step - loss: 201.2697 - mse: 201.2697 - val_loss: 223.2506 - val_mse: 223.2506\n",
            "Epoch 83/100\n",
            "6360/6360 [==============================] - 27s 4ms/step - loss: 199.0359 - mse: 199.0359 - val_loss: 224.3933 - val_mse: 224.3933\n",
            "Epoch 84/100\n",
            "6360/6360 [==============================] - 29s 5ms/step - loss: 198.9880 - mse: 198.9880 - val_loss: 225.5761 - val_mse: 225.5761\n",
            "Epoch 85/100\n",
            "6360/6360 [==============================] - 27s 4ms/step - loss: 198.9161 - mse: 198.9161 - val_loss: 223.5190 - val_mse: 223.5190\n",
            "Epoch 86/100\n",
            "6360/6360 [==============================] - 29s 5ms/step - loss: 198.4182 - mse: 198.4182 - val_loss: 221.4375 - val_mse: 221.4375\n",
            "Epoch 87/100\n",
            "6360/6360 [==============================] - 27s 4ms/step - loss: 199.4075 - mse: 199.4075 - val_loss: 224.1905 - val_mse: 224.1905\n",
            "Epoch 88/100\n",
            "6360/6360 [==============================] - 27s 4ms/step - loss: 199.6312 - mse: 199.6312 - val_loss: 227.0359 - val_mse: 227.0359\n",
            "Epoch 89/100\n",
            "6360/6360 [==============================] - 27s 4ms/step - loss: 197.8631 - mse: 197.8631 - val_loss: 228.5484 - val_mse: 228.5484\n",
            "Epoch 90/100\n",
            "6360/6360 [==============================] - 27s 4ms/step - loss: 198.3020 - mse: 198.3020 - val_loss: 221.0475 - val_mse: 221.0475\n",
            "Epoch 91/100\n",
            "6360/6360 [==============================] - 27s 4ms/step - loss: 198.4842 - mse: 198.4842 - val_loss: 218.8582 - val_mse: 218.8582\n",
            "Epoch 92/100\n",
            "6360/6360 [==============================] - 29s 5ms/step - loss: 198.6756 - mse: 198.6756 - val_loss: 223.8575 - val_mse: 223.8575\n",
            "Epoch 93/100\n",
            "6360/6360 [==============================] - 29s 5ms/step - loss: 197.7141 - mse: 197.7141 - val_loss: 220.5520 - val_mse: 220.5520\n",
            "Epoch 94/100\n",
            "6360/6360 [==============================] - 30s 5ms/step - loss: 198.5553 - mse: 198.5553 - val_loss: 219.8622 - val_mse: 219.8622\n",
            "Epoch 95/100\n",
            "6360/6360 [==============================] - 27s 4ms/step - loss: 198.1744 - mse: 198.1744 - val_loss: 227.4199 - val_mse: 227.4199\n",
            "Epoch 96/100\n",
            "6360/6360 [==============================] - 27s 4ms/step - loss: 197.6400 - mse: 197.6400 - val_loss: 225.1745 - val_mse: 225.1745\n",
            "Epoch 97/100\n",
            "6360/6360 [==============================] - 29s 5ms/step - loss: 198.6227 - mse: 198.6227 - val_loss: 218.8594 - val_mse: 218.8594\n",
            "Epoch 98/100\n",
            "6360/6360 [==============================] - 28s 4ms/step - loss: 198.3915 - mse: 198.3915 - val_loss: 220.7105 - val_mse: 220.7105\n",
            "Epoch 99/100\n",
            "6360/6360 [==============================] - 27s 4ms/step - loss: 198.0965 - mse: 198.0965 - val_loss: 220.9273 - val_mse: 220.9273\n",
            "Epoch 100/100\n",
            "6360/6360 [==============================] - 29s 5ms/step - loss: 197.1100 - mse: 197.1100 - val_loss: 223.3082 - val_mse: 223.3082\n"
          ]
        },
        {
          "output_type": "execute_result",
          "data": {
            "text/plain": [
              "<keras.callbacks.History at 0x7f6de02ec7d0>"
            ]
          },
          "metadata": {},
          "execution_count": 12
        }
      ]
    },
    {
      "cell_type": "code",
      "metadata": {
        "id": "_3OfzsqLn7kZ"
      },
      "source": [
        "model.save(('/content/pesosAPIS.h5'))"
      ],
      "execution_count": null,
      "outputs": []
    },
    {
      "cell_type": "code",
      "metadata": {
        "colab": {
          "base_uri": "https://localhost:8080/"
        },
        "id": "l6A_0IEOsi_i",
        "outputId": "1718198c-750b-4a1b-d325-0dce9f0c29ba"
      },
      "source": [
        "# test_x[0].reshape(-1, 36).shape\n",
        "# np.array([test_x[0]]).shape\n",
        "# student = 21\n",
        "# print(test_y[student], model.predict(np.array([test_x[student]])))"
      ],
      "execution_count": null,
      "outputs": [
        {
          "output_type": "stream",
          "name": "stdout",
          "text": [
            "64.0 [[65.67827]]\n"
          ]
        }
      ]
    },
    {
      "cell_type": "code",
      "metadata": {
        "colab": {
          "base_uri": "https://localhost:8080/"
        },
        "id": "B_NOyb1Yw94G",
        "outputId": "d9e63944-3b7d-4551-8103-17df26d7b190"
      },
      "source": [
        "mapaParametros = list(alumnos.columns)\n",
        "mapaParametros.index('Horas Laboratorio')"
      ],
      "execution_count": null,
      "outputs": [
        {
          "output_type": "execute_result",
          "data": {
            "text/plain": [
              "5"
            ]
          },
          "metadata": {},
          "execution_count": 71
        }
      ]
    },
    {
      "cell_type": "code",
      "metadata": {
        "id": "D6Le1xTNsxHJ"
      },
      "source": [
        "model = tf.keras.models.Sequential([\n",
        "  # Capa de entrada\n",
        "  keras.layers.Dense(128, activation='relu', input_shape=(36,)),\n",
        "  # Capas internas \n",
        "  keras.layers.Dense(128, activation=\"relu\"), \n",
        "  keras.layers.Dense(128, activation=\"relu\"),\n",
        "\n",
        "  keras.layers.Dropout(0.1),\n",
        "  keras.layers.Dense(1, activation='relu')\n",
        "  ])\n",
        "model.compile(loss='mse', optimizer='adam', metrics=['mse'])\n",
        "\n",
        "model = tf.keras.models.load_model('/content/pesosAPIS.h5')"
      ],
      "execution_count": null,
      "outputs": []
    },
    {
      "cell_type": "code",
      "metadata": {
        "colab": {
          "base_uri": "https://localhost:8080/"
        },
        "id": "Heh-ey89x4Sx",
        "outputId": "ac5c10ba-cde1-44b2-a8ee-4f17b6be9be9"
      },
      "source": [
        "print(test_y[student], model.predict(np.array([test_x[student]])))"
      ],
      "execution_count": null,
      "outputs": [
        {
          "output_type": "stream",
          "name": "stdout",
          "text": [
            "64.0 [[65.67827]]\n"
          ]
        }
      ]
    },
    {
      "cell_type": "code",
      "metadata": {
        "id": "Ma7bCgBcAXhX"
      },
      "source": [
        "tuner.results_summary()"
      ],
      "execution_count": null,
      "outputs": []
    },
    {
      "cell_type": "code",
      "metadata": {
        "id": "V-qRazyqxZIg"
      },
      "source": [
        "best_model.summary()"
      ],
      "execution_count": null,
      "outputs": []
    }
  ]
}